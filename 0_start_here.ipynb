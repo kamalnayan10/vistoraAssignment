{
 "metadata": {
  "kernelspec": {
   "display_name": "assignenv",
   "language": "python",
   "name": "python3"
  },
  "language_info": {
   "codemirror_mode": {
    "name": "ipython",
    "version": 3
   },
   "file_extension": ".py",
   "mimetype": "text/x-python",
   "name": "python",
   "nbconvert_exporter": "python",
   "pygments_lexer": "ipython3",
   "version": "3.9.22"
  },
  "lastEditStatus": {
   "notebookId": "ivmevch6sbdr5h4sg5jf",
   "authorId": "5271612550422",
   "authorName": "KAMALNAYAN10",
   "authorEmail": "jlu07586@student.jlu.edu.in",
   "sessionId": "936363ec-408e-44c5-a3e7-a893651a55af",
   "lastEditTime": 1754040441965
  }
 },
 "nbformat_minor": 5,
 "nbformat": 4,
 "cells": [
  {
   "cell_type": "markdown",
   "id": "ce110000-1111-2222-3333-ffffff000003",
   "metadata": {
    "collapsed": false,
    "name": "connection_md"
   },
   "source": [
    "## Set up connection and test dataset\n",
    "\n",
    "Let's start with setting up out test environment."
   ]
  },
  {
   "cell_type": "code",
   "execution_count": 1,
   "id": "ce110000-1111-2222-3333-ffffff000004",
   "metadata": {
    "codeCollapsed": false,
    "collapsed": false,
    "language": "python",
    "name": "setup_connection"
   },
   "outputs": [
    {
     "name": "stderr",
     "output_type": "stream",
     "text": [
      "/home/udbilau/PYTHON/assignenv/lib/python3.9/site-packages/snowflake/snowpark/session.py:38: UserWarning: pkg_resources is deprecated as an API. See https://setuptools.pypa.io/en/latest/pkg_resources.html. The pkg_resources package is slated for removal as early as 2025-11-30. Refrain from using this package or pin to Setuptools<81.\n",
      "  import pkg_resources\n"
     ]
    },
    {
     "ename": "SnowparkSessionException",
     "evalue": "(1403): No default Session is found. Please create a session before you call function 'udf' or use decorator '@udf'.",
     "output_type": "error",
     "traceback": [
      "\u001b[0;31m---------------------------------------------------------------------------\u001b[0m",
      "\u001b[0;31mSnowparkSessionException\u001b[0m                  Traceback (most recent call last)",
      "Cell \u001b[0;32mIn[1], line 2\u001b[0m\n\u001b[1;32m      1\u001b[0m \u001b[38;5;28;01mfrom\u001b[39;00m\u001b[38;5;250m \u001b[39m\u001b[38;5;21;01msnowflake\u001b[39;00m\u001b[38;5;21;01m.\u001b[39;00m\u001b[38;5;21;01msnowpark\u001b[39;00m\u001b[38;5;21;01m.\u001b[39;00m\u001b[38;5;21;01mcontext\u001b[39;00m\u001b[38;5;250m \u001b[39m\u001b[38;5;28;01mimport\u001b[39;00m get_active_session\n\u001b[0;32m----> 2\u001b[0m session \u001b[38;5;241m=\u001b[39m \u001b[43mget_active_session\u001b[49m\u001b[43m(\u001b[49m\u001b[43m)\u001b[49m\n\u001b[1;32m      4\u001b[0m \u001b[38;5;66;03m# Add a query tag to the session. This helps with debugging and performance monitoring.\u001b[39;00m\n\u001b[1;32m      5\u001b[0m session\u001b[38;5;241m.\u001b[39mquery_tag \u001b[38;5;241m=\u001b[39m {\u001b[38;5;124m\"\u001b[39m\u001b[38;5;124morigin\u001b[39m\u001b[38;5;124m\"\u001b[39m:\u001b[38;5;124m\"\u001b[39m\u001b[38;5;124msf_sit\u001b[39m\u001b[38;5;124m\"\u001b[39m, \u001b[38;5;124m\"\u001b[39m\u001b[38;5;124mname\u001b[39m\u001b[38;5;124m\"\u001b[39m:\u001b[38;5;124m\"\u001b[39m\u001b[38;5;124moverview_of_feature_store_api\u001b[39m\u001b[38;5;124m\"\u001b[39m, \u001b[38;5;124m\"\u001b[39m\u001b[38;5;124mversion\u001b[39m\u001b[38;5;124m\"\u001b[39m:{\u001b[38;5;124m\"\u001b[39m\u001b[38;5;124mmajor\u001b[39m\u001b[38;5;124m\"\u001b[39m:\u001b[38;5;241m1\u001b[39m, \u001b[38;5;124m\"\u001b[39m\u001b[38;5;124mminor\u001b[39m\u001b[38;5;124m\"\u001b[39m:\u001b[38;5;241m0\u001b[39m}}\n",
      "File \u001b[0;32m~/PYTHON/assignenv/lib/python3.9/site-packages/snowflake/snowpark/context.py:87\u001b[0m, in \u001b[0;36mget_active_session\u001b[0;34m()\u001b[0m\n\u001b[1;32m     79\u001b[0m \u001b[38;5;28;01mdef\u001b[39;00m\u001b[38;5;250m \u001b[39m\u001b[38;5;21mget_active_session\u001b[39m() \u001b[38;5;241m-\u001b[39m\u001b[38;5;241m>\u001b[39m \u001b[38;5;124m\"\u001b[39m\u001b[38;5;124msnowflake.snowpark.Session\u001b[39m\u001b[38;5;124m\"\u001b[39m:\n\u001b[1;32m     80\u001b[0m \u001b[38;5;250m    \u001b[39m\u001b[38;5;124;03m\"\"\"Returns the current active Snowpark session.\u001b[39;00m\n\u001b[1;32m     81\u001b[0m \n\u001b[1;32m     82\u001b[0m \u001b[38;5;124;03m    Raises: SnowparkSessionException: If there is more than one active session or no active sessions.\u001b[39;00m\n\u001b[0;32m   (...)\u001b[0m\n\u001b[1;32m     85\u001b[0m \u001b[38;5;124;03m        A :class:`Session` object for the current session.\u001b[39;00m\n\u001b[1;32m     86\u001b[0m \u001b[38;5;124;03m    \"\"\"\u001b[39;00m\n\u001b[0;32m---> 87\u001b[0m     \u001b[38;5;28;01mreturn\u001b[39;00m \u001b[43msnowflake\u001b[49m\u001b[38;5;241;43m.\u001b[39;49m\u001b[43msnowpark\u001b[49m\u001b[38;5;241;43m.\u001b[39;49m\u001b[43msession\u001b[49m\u001b[38;5;241;43m.\u001b[39;49m\u001b[43m_get_active_session\u001b[49m\u001b[43m(\u001b[49m\u001b[43m)\u001b[49m\n",
      "File \u001b[0;32m~/PYTHON/assignenv/lib/python3.9/site-packages/snowflake/snowpark/session.py:313\u001b[0m, in \u001b[0;36m_get_active_session\u001b[0;34m()\u001b[0m\n\u001b[1;32m    311\u001b[0m     \u001b[38;5;28;01mraise\u001b[39;00m SnowparkClientExceptionMessages\u001b[38;5;241m.\u001b[39mMORE_THAN_ONE_ACTIVE_SESSIONS()\n\u001b[1;32m    312\u001b[0m \u001b[38;5;28;01melse\u001b[39;00m:\n\u001b[0;32m--> 313\u001b[0m     \u001b[38;5;28;01mraise\u001b[39;00m SnowparkClientExceptionMessages\u001b[38;5;241m.\u001b[39mSERVER_NO_DEFAULT_SESSION()\n",
      "\u001b[0;31mSnowparkSessionException\u001b[0m: (1403): No default Session is found. Please create a session before you call function 'udf' or use decorator '@udf'."
     ]
    }
   ],
   "source": [
    "from snowflake.snowpark.context import get_active_session\n",
    "session = get_active_session()\n",
    "\n",
    "# Add a query tag to the session. This helps with debugging and performance monitoring.\n",
    "session.query_tag = {\"origin\":\"sf_sit\", \"name\":\"overview_of_feature_store_api\", \"version\":{\"major\":1, \"minor\":0}}\n",
    "\n",
    "# Set session context \n",
    "session.use_role(\"FS_API_ROLE\") \n",
    "\n",
    "# Print the current role, warehouse, and database/schema\n",
    "print(f\"role: {session.get_current_role()} | WH: {session.get_current_warehouse()} | DB.SCHEMA: {session.get_fully_qualified_current_schema()}\")"
   ]
  },
  {
   "cell_type": "code",
   "execution_count": 2,
   "id": "ce110000-1111-2222-3333-ffffff000005",
   "metadata": {
    "collapsed": false,
    "language": "python",
    "name": "set_schema",
    "codeCollapsed": false
   },
   "outputs": [
    {
     "data": {
      "text/plain": [
       "[Row(status='Schema SNOWFLAKE_FEATURE_STORE_NOTEBOOK_DEMO successfully created.')]"
      ]
     },
     "execution_count": 2,
     "metadata": {},
     "output_type": "execute_result"
    }
   ],
   "source": [
    "# The schema where Feature Store will initialize on and test dataset stores.\n",
    "FS_DEMO_SCHEMA = session.get_current_schema()\n",
    "# the schema where the model lives.\n",
    "MODEL_DEMO_SCHEMA = session.get_current_schema()"
   ]
  },
  {
   "cell_type": "markdown",
   "id": "ce110000-1111-2222-3333-ffffff000006",
   "metadata": {
    "name": "load_data_md",
    "collapsed": false
   },
   "source": [
    "We have prepared some examples which you can find in our [open source repo](https://github.com/snowflakedb/snowflake-ml-python/tree/main/snowflake/ml/feature_store/examples). Each example contains the source dataset, feature view and entity definitions which will be used in this demo. `ExampleHelper` (included in snowflake-ml-python) will setup everything with simple APIs and you don't have to worry about the details."
   ]
  },
  {
   "cell_type": "code",
   "execution_count": 3,
   "id": "ce110000-1111-2222-3333-ffffff000007",
   "metadata": {
    "collapsed": false,
    "language": "python",
    "name": "load_data"
   },
   "outputs": [
    {
     "data": {
      "text/html": [
       "<div>\n",
       "<style scoped>\n",
       "    .dataframe tbody tr th:only-of-type {\n",
       "        vertical-align: middle;\n",
       "    }\n",
       "\n",
       "    .dataframe tbody tr th {\n",
       "        vertical-align: top;\n",
       "    }\n",
       "\n",
       "    .dataframe thead th {\n",
       "        text-align: right;\n",
       "    }\n",
       "</style>\n",
       "<table border=\"1\" class=\"dataframe\">\n",
       "  <thead>\n",
       "    <tr style=\"text-align: right;\">\n",
       "      <th></th>\n",
       "      <th>NAME</th>\n",
       "      <th>DESC</th>\n",
       "      <th>LABEL_COLS</th>\n",
       "    </tr>\n",
       "  </thead>\n",
       "  <tbody>\n",
       "    <tr>\n",
       "      <th>0</th>\n",
       "      <td>new_york_taxi_features</td>\n",
       "      <td>Features using taxi trip data trying to predic...</td>\n",
       "      <td>TOTAL_AMOUNT</td>\n",
       "    </tr>\n",
       "    <tr>\n",
       "      <th>1</th>\n",
       "      <td>airline_features</td>\n",
       "      <td>Features using synthetic airline data to predi...</td>\n",
       "      <td>DEPARTING_DELAY</td>\n",
       "    </tr>\n",
       "    <tr>\n",
       "      <th>2</th>\n",
       "      <td>wine_quality_features</td>\n",
       "      <td>Features using wine quality data trying to pre...</td>\n",
       "      <td>quality</td>\n",
       "    </tr>\n",
       "    <tr>\n",
       "      <th>3</th>\n",
       "      <td>citibike_trip_features</td>\n",
       "      <td>Features using citibike trip data trying to pr...</td>\n",
       "      <td>tripduration</td>\n",
       "    </tr>\n",
       "  </tbody>\n",
       "</table>\n",
       "</div>"
      ],
      "text/plain": [
       "                     NAME                                               DESC  \\\n",
       "0  new_york_taxi_features  Features using taxi trip data trying to predic...   \n",
       "1        airline_features  Features using synthetic airline data to predi...   \n",
       "2   wine_quality_features  Features using wine quality data trying to pre...   \n",
       "3  citibike_trip_features  Features using citibike trip data trying to pr...   \n",
       "\n",
       "        LABEL_COLS  \n",
       "0     TOTAL_AMOUNT  \n",
       "1  DEPARTING_DELAY  \n",
       "2          quality  \n",
       "3     tripduration  "
      ]
     },
     "execution_count": 3,
     "metadata": {},
     "output_type": "execute_result"
    }
   ],
   "source": [
    "from snowflake.ml.feature_store.examples.example_helper import ExampleHelper\n",
    "\n",
    "example_helper = ExampleHelper(session, session.get_current_database(), FS_DEMO_SCHEMA)\n",
    "example_helper.list_examples().to_pandas()"
   ]
  },
  {
   "cell_type": "markdown",
   "id": "ce110000-1111-2222-3333-ffffff000008",
   "metadata": {
    "name": "view_data_md",
    "collapsed": false
   },
   "source": [
    "We can quickly look at the newly generated source tables."
   ]
  },
  {
   "cell_type": "code",
   "execution_count": 4,
   "id": "ce110000-1111-2222-3333-ffffff000009",
   "metadata": {
    "collapsed": false,
    "language": "python",
    "name": "view_data"
   },
   "outputs": [
    {
     "name": "stdout",
     "output_type": "stream",
     "text": [
      "\"REGTEST_DB\".SNOWFLAKE_FEATURE_STORE_NOTEBOOK_DEMO.citibike_trips:\n"
     ]
    },
    {
     "data": {
      "text/html": [
       "<div>\n",
       "<style scoped>\n",
       "    .dataframe tbody tr th:only-of-type {\n",
       "        vertical-align: middle;\n",
       "    }\n",
       "\n",
       "    .dataframe tbody tr th {\n",
       "        vertical-align: top;\n",
       "    }\n",
       "\n",
       "    .dataframe thead th {\n",
       "        text-align: right;\n",
       "    }\n",
       "</style>\n",
       "<table border=\"1\" class=\"dataframe\">\n",
       "  <thead>\n",
       "    <tr style=\"text-align: right;\">\n",
       "      <th></th>\n",
       "      <th>TRIP_ID</th>\n",
       "      <th>TRIPDURATION</th>\n",
       "      <th>STARTTIME</th>\n",
       "      <th>STOPTIME</th>\n",
       "      <th>START_STATION_ID</th>\n",
       "      <th>START_STATION_NAME</th>\n",
       "      <th>START_STATION_LATITUDE</th>\n",
       "      <th>START_STATION_LONGITUDE</th>\n",
       "      <th>END_STATION_ID</th>\n",
       "      <th>END_STATION_NAME</th>\n",
       "      <th>END_STATION_LATITUDE</th>\n",
       "      <th>END_STATION_LONGITUDE</th>\n",
       "      <th>BIKEID</th>\n",
       "      <th>MEMBERSHIP_TYPE</th>\n",
       "      <th>USERTYPE</th>\n",
       "      <th>BIRTH_YEAR</th>\n",
       "      <th>GENDER</th>\n",
       "    </tr>\n",
       "  </thead>\n",
       "  <tbody>\n",
       "    <tr>\n",
       "      <th>0</th>\n",
       "      <td>1</td>\n",
       "      <td>327</td>\n",
       "      <td>2013-12-05 13:09:50</td>\n",
       "      <td>2013-12-05 13:15:17</td>\n",
       "      <td>523</td>\n",
       "      <td>W 38 St &amp; 8 Ave</td>\n",
       "      <td>40.754666</td>\n",
       "      <td>-73.991382</td>\n",
       "      <td>505</td>\n",
       "      <td>6 Ave &amp; W 33 St</td>\n",
       "      <td>40.749013</td>\n",
       "      <td>-73.988484</td>\n",
       "      <td>15852</td>\n",
       "      <td>None</td>\n",
       "      <td>Subscriber</td>\n",
       "      <td>1980</td>\n",
       "      <td>1</td>\n",
       "    </tr>\n",
       "    <tr>\n",
       "      <th>1</th>\n",
       "      <td>2</td>\n",
       "      <td>478</td>\n",
       "      <td>2013-12-05 13:09:52</td>\n",
       "      <td>2013-12-05 13:17:50</td>\n",
       "      <td>473</td>\n",
       "      <td>Rivington St &amp; Chrystie St</td>\n",
       "      <td>40.721101</td>\n",
       "      <td>-73.991925</td>\n",
       "      <td>161</td>\n",
       "      <td>LaGuardia Pl &amp; W 3 St</td>\n",
       "      <td>40.729170</td>\n",
       "      <td>-73.998102</td>\n",
       "      <td>17952</td>\n",
       "      <td>None</td>\n",
       "      <td>Subscriber</td>\n",
       "      <td>1983</td>\n",
       "      <td>2</td>\n",
       "    </tr>\n",
       "    <tr>\n",
       "      <th>2</th>\n",
       "      <td>3</td>\n",
       "      <td>288</td>\n",
       "      <td>2013-12-05 13:09:54</td>\n",
       "      <td>2013-12-05 13:14:42</td>\n",
       "      <td>167</td>\n",
       "      <td>E 39 St &amp; 3 Ave</td>\n",
       "      <td>40.748901</td>\n",
       "      <td>-73.976049</td>\n",
       "      <td>524</td>\n",
       "      <td>W 43 St &amp; 6 Ave</td>\n",
       "      <td>40.755273</td>\n",
       "      <td>-73.983169</td>\n",
       "      <td>19033</td>\n",
       "      <td>None</td>\n",
       "      <td>Subscriber</td>\n",
       "      <td>1988</td>\n",
       "      <td>1</td>\n",
       "    </tr>\n",
       "    <tr>\n",
       "      <th>3</th>\n",
       "      <td>4</td>\n",
       "      <td>1163</td>\n",
       "      <td>2013-12-05 13:10:00</td>\n",
       "      <td>2013-12-05 13:29:23</td>\n",
       "      <td>229</td>\n",
       "      <td>Great Jones St</td>\n",
       "      <td>40.727434</td>\n",
       "      <td>-73.993790</td>\n",
       "      <td>347</td>\n",
       "      <td>W Houston St &amp; Hudson St</td>\n",
       "      <td>40.728739</td>\n",
       "      <td>-74.007488</td>\n",
       "      <td>17488</td>\n",
       "      <td>None</td>\n",
       "      <td>Subscriber</td>\n",
       "      <td>1988</td>\n",
       "      <td>1</td>\n",
       "    </tr>\n",
       "    <tr>\n",
       "      <th>4</th>\n",
       "      <td>5</td>\n",
       "      <td>247</td>\n",
       "      <td>2013-12-05 13:10:04</td>\n",
       "      <td>2013-12-05 13:14:11</td>\n",
       "      <td>505</td>\n",
       "      <td>6 Ave &amp; W 33 St</td>\n",
       "      <td>40.749013</td>\n",
       "      <td>-73.988484</td>\n",
       "      <td>466</td>\n",
       "      <td>W 25 St &amp; 6 Ave</td>\n",
       "      <td>40.743954</td>\n",
       "      <td>-73.991449</td>\n",
       "      <td>15838</td>\n",
       "      <td>None</td>\n",
       "      <td>Subscriber</td>\n",
       "      <td>1965</td>\n",
       "      <td>1</td>\n",
       "    </tr>\n",
       "  </tbody>\n",
       "</table>\n",
       "</div>"
      ],
      "text/plain": [
       "   TRIP_ID  TRIPDURATION           STARTTIME            STOPTIME  \\\n",
       "0        1           327 2013-12-05 13:09:50 2013-12-05 13:15:17   \n",
       "1        2           478 2013-12-05 13:09:52 2013-12-05 13:17:50   \n",
       "2        3           288 2013-12-05 13:09:54 2013-12-05 13:14:42   \n",
       "3        4          1163 2013-12-05 13:10:00 2013-12-05 13:29:23   \n",
       "4        5           247 2013-12-05 13:10:04 2013-12-05 13:14:11   \n",
       "\n",
       "   START_STATION_ID          START_STATION_NAME  START_STATION_LATITUDE  \\\n",
       "0               523             W 38 St & 8 Ave               40.754666   \n",
       "1               473  Rivington St & Chrystie St               40.721101   \n",
       "2               167             E 39 St & 3 Ave               40.748901   \n",
       "3               229              Great Jones St               40.727434   \n",
       "4               505             6 Ave & W 33 St               40.749013   \n",
       "\n",
       "   START_STATION_LONGITUDE  END_STATION_ID          END_STATION_NAME  \\\n",
       "0               -73.991382             505           6 Ave & W 33 St   \n",
       "1               -73.991925             161     LaGuardia Pl & W 3 St   \n",
       "2               -73.976049             524           W 43 St & 6 Ave   \n",
       "3               -73.993790             347  W Houston St & Hudson St   \n",
       "4               -73.988484             466           W 25 St & 6 Ave   \n",
       "\n",
       "   END_STATION_LATITUDE  END_STATION_LONGITUDE  BIKEID MEMBERSHIP_TYPE  \\\n",
       "0             40.749013             -73.988484   15852            None   \n",
       "1             40.729170             -73.998102   17952            None   \n",
       "2             40.755273             -73.983169   19033            None   \n",
       "3             40.728739             -74.007488   17488            None   \n",
       "4             40.743954             -73.991449   15838            None   \n",
       "\n",
       "     USERTYPE  BIRTH_YEAR  GENDER  \n",
       "0  Subscriber        1980       1  \n",
       "1  Subscriber        1983       2  \n",
       "2  Subscriber        1988       1  \n",
       "3  Subscriber        1988       1  \n",
       "4  Subscriber        1965       1  "
      ]
     },
     "metadata": {},
     "output_type": "display_data"
    }
   ],
   "source": "source_tables = example_helper.load_example('new_york_taxi_features')\n\nfor table in source_tables:\n    print(f\"{table}:\")\n    snowpark_df = session.table(table)\nsnowpark_df.show(5)"
  },
  {
   "cell_type": "code",
   "id": "51212979-6fdc-4622-839e-515e4ac6bf3c",
   "metadata": {
    "language": "python",
    "name": "cell1",
    "codeCollapsed": false
   },
   "outputs": [],
   "source": "snowpark_df.describe()",
   "execution_count": null
  },
  {
   "cell_type": "markdown",
   "id": "183807f3-e56c-4b15-9834-a9699adbd4bc",
   "metadata": {
    "name": "cell4",
    "collapsed": false
   },
   "source": "# START FEATURE ENGINEERING"
  },
  {
   "cell_type": "markdown",
   "id": "6f7fe82d-0cb1-4b85-b0e4-74980cf6a6d7",
   "metadata": {
    "name": "cell2",
    "collapsed": false
   },
   "source": "## CHECK FOR MISSING VALUES"
  },
  {
   "cell_type": "code",
   "id": "339b8125-822b-4661-a665-caea33e6fccf",
   "metadata": {
    "language": "python",
    "name": "cell3"
   },
   "outputs": [],
   "source": "from snowflake.snowpark.functions import col, sum as snowpark_sum, when\n\nnull_counts = snowpark_df.select(\n    *[snowpark_sum(when(col(c).is_null(), 1).otherwise(0)).alias(c) for c in snowpark_df.columns]\n)\n\nnull_counts.show()",
   "execution_count": null
  },
  {
   "cell_type": "code",
   "id": "4cca1c96-99cd-4fff-b882-43a83970cdd6",
   "metadata": {
    "language": "python",
    "name": "cell5",
    "codeCollapsed": false
   },
   "outputs": [],
   "source": "df_fe = snowpark_df\ndf_fe.show()",
   "execution_count": null
  },
  {
   "cell_type": "markdown",
   "id": "e085b636-50c3-4ba6-8236-4eae551a843b",
   "metadata": {
    "name": "cell7",
    "collapsed": false
   },
   "source": "## REMOVING CONGESTION_SURCHARGE AND AIRPORT_FEE AS THEY CONTAIN NO INFORMATION"
  },
  {
   "cell_type": "code",
   "id": "4bddbc48-84f1-473f-9a0c-3742dfee702a",
   "metadata": {
    "language": "python",
    "name": "cell6",
    "codeCollapsed": false
   },
   "outputs": [],
   "source": "df_fe = df_fe.drop([\"CONGESTION_SURCHARGE\", \"AIRPORT_FEE\"])\ndf_fe.show()",
   "execution_count": null
  },
  {
   "cell_type": "markdown",
   "id": "f11bd969-c6b6-49b0-becc-ed084dd5f473",
   "metadata": {
    "name": "cell8",
    "collapsed": false
   },
   "source": "## CHANGING STORE_AND_FWD_FLAG TO BINARY ENCODING"
  },
  {
   "cell_type": "code",
   "id": "7c3e2bda-f3f1-40ce-b20a-d8334ba38e5f",
   "metadata": {
    "language": "python",
    "name": "cell9"
   },
   "outputs": [],
   "source": "from snowflake.snowpark.functions import col, when\n\ndf_fe = df_fe.with_column(\n    \"STORE_AND_FWD_FLAG\",\n    when(col(\"STORE_AND_FWD_FLAG\") == \"Y\", 1).otherwise(0)\n)\n\ndf_fe.show()",
   "execution_count": null
  },
  {
   "cell_type": "markdown",
   "id": "0690328e-111e-42e1-84ba-fd26c7450245",
   "metadata": {
    "name": "cell10",
    "collapsed": false
   },
   "source": "## DEALING WITH NOMINAL CATEGORICAL VARIABLES(VENDORID, RATECODEID, PAYMENT_TYPE)"
  },
  {
   "cell_type": "code",
   "id": "8ae39538-d48d-49c4-b822-2b8cac7bf4ab",
   "metadata": {
    "language": "python",
    "name": "cell11"
   },
   "outputs": [],
   "source": "df_fe.select(\"VENDORID\").distinct().show()\n\ndf_fe.select(\"PAYMENT_TYPE\").distinct().show()\n\ndf_fe.select(\"RATECODEID\").distinct().show()",
   "execution_count": null
  },
  {
   "cell_type": "code",
   "id": "98f36fc4-72cd-4b09-a1bc-1e2c7f452a24",
   "metadata": {
    "language": "python",
    "name": "cell12",
    "codeCollapsed": false
   },
   "outputs": [],
   "source": "vendor_ids = [row[\"VENDORID\"] for row in df_fe.select(\"VENDORID\").distinct().collect()]\npayment_types = [row[\"PAYMENT_TYPE\"] for row in df_fe.select(\"PAYMENT_TYPE\").distinct().collect()]\nratecode_ids = [row[\"RATECODEID\"] for row in df_fe.select(\"RATECODEID\").distinct().collect()]\n\nfor v_id in vendor_ids:\n    new_col = f\"VENDOR_{v_id}\"\n    df_fe = df_fe.with_column(\n        new_col,\n        when(col(\"VENDORID\") == v_id, 1).otherwise(0)\n    )\n\nfor p_type in payment_types:\n    new_col = f\"PAYMENT_{p_type}\"\n    df_fe = df_fe.with_column(\n        new_col,\n        when(col(\"PAYMENT_TYPE\") == p_type, 1).otherwise(0)\n    )\n\nfor r_id in ratecode_ids:\n    new_col = f\"RATECODE_{r_id}\"\n    df_fe = df_fe.with_column(\n        new_col,\n        when(col(\"RATECODEID\") == r_id, 1).otherwise(0)\n    )\n\ndf_fe = df_fe.drop([\"VENDORID\", \"PAYMENT_TYPE\", \"RATECODEID\"])\ndf_fe.show()",
   "execution_count": null
  },
  {
   "cell_type": "markdown",
   "id": "44893e8f-034b-4ba7-bda7-a3b50448e352",
   "metadata": {
    "name": "cell13",
    "collapsed": false
   },
   "source": "## EXTRACTING INFO FROM PICKUP AND DROPOFF TIME\n    - TRIP DURATION IN MINUTES\n    - HOUR (FOR RUSH HOUR INFO)\n    - DAY (FOR WEEKDAV V/S WEEKEND)\n    - MONTHS (FOR SEASONAL TRENDS)"
  },
  {
   "cell_type": "code",
   "id": "1b06ff33-66f2-4dff-96eb-b573f66a3d66",
   "metadata": {
    "language": "python",
    "name": "cell14"
   },
   "outputs": [],
   "source": "from snowflake.snowpark.functions import datediff\n\nduration_in_seconds = datediff(\"second\", col(\"TPEP_PICKUP_DATETIME\"), col(\"TPEP_DROPOFF_DATETIME\"))\n\ndf_fe = df_fe.with_column(\"TRIP_DURATION_MINUTES\", duration_in_seconds / 60)\n\ndf_fe = df_fe.with_column(\"TRIP_DURATION_MINUTES\", col(\"TRIP_DURATION_MINUTES\").cast(\"int\"))\n\ndf_fe.show()",
   "execution_count": null
  },
  {
   "cell_type": "code",
   "id": "390c1d5d-7c90-4e2e-9fa3-18a8645928d0",
   "metadata": {
    "language": "python",
    "name": "cell15",
    "codeCollapsed": false
   },
   "outputs": [],
   "source": "from snowflake.snowpark.functions import month, dayofweek, hour, sin, cos\nfrom numpy import pi\n\ndf_fe = df_fe.with_column(\"PICKUP_HOUR\", hour(col(\"TPEP_PICKUP_DATETIME\")))\ndf_fe = df_fe.with_column(\"DAY_OF_WEEK\", dayofweek(col(\"TPEP_PICKUP_DATETIME\")))\ndf_fe = df_fe.with_column(\"PICKUP_MONTH\", month(col(\"TPEP_PICKUP_DATETIME\")))\n\ndf_fe = df_fe.with_column(\"HOUR_SIN\", sin(2*pi*col(\"PICKUP_HOUR\"))/24)\ndf_fe = df_fe.with_column(\"HOUR_COS\", cos(2*pi*col(\"PICKUP_HOUR\"))/24)\n\ndf_fe = df_fe.with_column(\"DAY_SIN\", sin(2*pi*col(\"DAY_OF_WEEK\"))/7)\ndf_fe = df_fe.with_column(\"DAY_COS\", cos(2*pi*col(\"DAY_OF_WEEK\"))/7)\n\ndf_fe = df_fe.with_column(\"MONTH_SIN\", sin(2*pi*col(\"PICKUP_MONTH\"))/12)\ndf_fe = df_fe.with_column(\"MONTH_COS\", cos(2*pi*col(\"PICKUP_MONTH\"))/12)\n\ndf_fe.show()",
   "execution_count": null
  },
  {
   "cell_type": "markdown",
   "id": "fdeea02f-7cc2-4f27-9f6e-d31ca986bf4c",
   "metadata": {
    "name": "cell16",
    "collapsed": false
   },
   "source": "## SCALE NUMERICAL VALUES"
  },
  {
   "cell_type": "code",
   "id": "a11cb0e6-1746-4c58-b055-66bc9c0f431d",
   "metadata": {
    "language": "python",
    "name": "cell17"
   },
   "outputs": [],
   "source": "from snowflake.snowpark.functions import col, mean, stddev\n\ncolumns_to_scale = [\n    \"PASSENGER_COUNT\",\n    \"TRIP_DISTANCE\",\n    \"TRIP_DURATION_MINUTES\"\n]\n\nfor col_name in columns_to_scale:\n    aggs = df_fe.select(mean(col(col_name)).alias(\"mean\"), stddev(col(col_name)).alias(\"stddev\")).collect()[0]\n\n    col_mean = aggs[\"MEAN\"]\n    col_stddev = aggs[\"STDDEV\"]\n\n    df_fe = df_fe.with_column(\n        col_name,\n        (col(col_name) - col_mean) / col_stddev\n    )\n\nprint(\"Numerical columns have been scaled.\")\ndf_fe.show()",
   "execution_count": null
  },
  {
   "cell_type": "code",
   "id": "249c123a-a780-486c-8986-4d93cdad5c60",
   "metadata": {
    "language": "python",
    "name": "cell19"
   },
   "outputs": [],
   "source": "df_fe.columns",
   "execution_count": null
  },
  {
   "cell_type": "markdown",
   "id": "a39d86ff-d91d-4827-a897-154d75060b6d",
   "metadata": {
    "name": "cell21",
    "collapsed": false
   },
   "source": "## REMOVE THE FEATURES AS THEY WOULD CAUSE DATA LEAKAGE\n    - \"FARE_AMOUNT\"\n    - \"EXTRA\"\n    - \"MTA_TAX\"\n    - \"TIP_AMOUNT\"\n    - \"TOLLS_AMOUNT\"\n    - \"IMPROVEMENT_SURCHARGE\"\n    \n## REMOVE UNNECESSARY FEATURES  \n    - \"PICKUP_HOUR\"\n    - \"DAY_OF_WEEK\"\n    - \"PICKUP_MONTH\""
  },
  {
   "cell_type": "code",
   "id": "aed82815-ca80-48e7-b480-e5cbd2c82851",
   "metadata": {
    "language": "python",
    "name": "cell20"
   },
   "outputs": [],
   "source": "final_feature_columns = [\n    # --- Identifiers ---\n    \"TRIP_ID\",\n    \"TPEP_PICKUP_DATETIME\",\n\n    # --- Target Variable ---\n    \"TOTAL_AMOUNT\",\n\n    # Numerical Features\n    \"PASSENGER_COUNT\",\n    \"TRIP_DISTANCE\",\n    \"TRIP_DURATION_MINUTES\",\n\n    # Cateorical Features\n    \"PULOCATIONID\",\n    \"DOLOCATIONID\",\n    \"STORE_AND_FWD_FLAG\",\n    \"VENDOR_1\", \"VENDOR_2\",\n    \"PAYMENT_1\", \"PAYMENT_2\", \"PAYMENT_3\", \"PAYMENT_4\", \"PAYMENT_5\",\n    \"RATECODE_1\", \"RATECODE_2\", \"RATECODE_3\", \"RATECODE_4\", \"RATECODE_5\", \"RATECODE_6\", \"RATECODE_99\",\n\n    # Time Features(cyclical)\n    \"HOUR_SIN\", \"HOUR_COS\",\n    \"DAY_SIN\", \"DAY_COS\",\n    \"MONTH_SIN\", \"MONTH_COS\"\n]\n\nfinal_features_df = df_fe.select(final_feature_columns)\n\nfinal_features_df.show(5)",
   "execution_count": null
  },
  {
   "cell_type": "markdown",
   "id": "1c1def83-6180-43c6-aacb-0311d87ec5a7",
   "metadata": {
    "name": "cell31",
    "collapsed": false
   },
   "source": "## MAKE FEATURE STORE"
  },
  {
   "cell_type": "code",
   "id": "f5019794-79b8-436f-b369-ced8287bf0bf",
   "metadata": {
    "language": "python",
    "name": "cell29"
   },
   "outputs": [],
   "source": "from snowflake.ml.feature_store import (\n    FeatureStore,\n    FeatureView,\n    Entity,\n    CreationMode,\n    FeatureViewStatus,\n)\n\nfs = FeatureStore(\n    session=session, \n    database=session.get_current_database(), \n    name=FS_DEMO_SCHEMA, \n    default_warehouse=session.get_current_warehouse(),\n    creation_mode=CreationMode.CREATE_IF_NOT_EXIST,\n)",
   "execution_count": null
  },
  {
   "cell_type": "markdown",
   "id": "41cd7ecc-08a9-4f8c-9a04-b77975847d70",
   "metadata": {
    "name": "cell32",
    "collapsed": false
   },
   "source": "## MAKE ENTITY"
  },
  {
   "cell_type": "code",
   "id": "9621223a-56f6-4ffe-930b-827310bcdcf1",
   "metadata": {
    "language": "python",
    "name": "cell22"
   },
   "outputs": [],
   "source": "from snowflake.ml.feature_store import Entity\n\nentity = Entity(\n    name=\"TRIP_ID_ENTITY\",\n    join_keys=[\"TRIP_ID\"],\n    desc=\"my TRIP ID Entitiy\"\n)\nfs.register_entity(entity)",
   "execution_count": null
  },
  {
   "cell_type": "code",
   "id": "74b9dad7-bd73-43eb-9cfb-d2f3a8d39f0c",
   "metadata": {
    "language": "python",
    "name": "cell23"
   },
   "outputs": [],
   "source": "entity = fs.get_entity(name=\"TRIP_ID_ENTITY\")\nprint(entity.join_keys)",
   "execution_count": null
  },
  {
   "cell_type": "markdown",
   "id": "beb3d58f-1a52-4c00-9874-ee959d0f4cf6",
   "metadata": {
    "name": "cell33",
    "collapsed": false
   },
   "source": "## MAKE FEATURE VIEW"
  },
  {
   "cell_type": "code",
   "id": "27950bfa-5b7c-4fbe-b496-9e39a25bb147",
   "metadata": {
    "language": "python",
    "name": "cell24"
   },
   "outputs": [],
   "source": "from snowflake.ml.feature_store import FeatureView\n\nmanaged_fv = FeatureView(\n    name=\"TAXI_FARE_FV\",\n    entities=[entity],\n    feature_df=final_features_df, # Snowpark DataFrame containing feature transformations\n    timestamp_col=\"TPEP_PICKUP_DATETIME\",                 \n    refresh_freq=\"30 minutes\",           \n    desc=\"my managed feature view\"\n)",
   "execution_count": null
  },
  {
   "cell_type": "code",
   "id": "990121de-7590-426a-8c7e-a4fcfa16a0ac",
   "metadata": {
    "language": "python",
    "name": "cell25",
    "codeCollapsed": false
   },
   "outputs": [],
   "source": "fs.register_feature_view(\n        feature_view=managed_fv,\n        version='1.0',\n)",
   "execution_count": null
  },
  {
   "cell_type": "code",
   "id": "f8277a8c-2580-45d9-a9b7-97577c247dba",
   "metadata": {
    "language": "python",
    "name": "cell26",
    "codeCollapsed": false
   },
   "outputs": [],
   "source": "retrieved_fv = fs.get_feature_view(\n    name=\"TAXI_FARE_FV\",\n    version=\"1.0\"\n)\n\nfs.list_feature_views().show()",
   "execution_count": null
  },
  {
   "cell_type": "code",
   "id": "9c63d4cb-1bfe-429d-89c5-9ba24450a6e4",
   "metadata": {
    "language": "python",
    "name": "cell27",
    "codeCollapsed": false
   },
   "outputs": [],
   "source": "from snowflake.snowpark.functions import col\n\nspine_df = snowpark_df.select(\n    col(\"TRIP_ID\"),\n    col(\"TPEP_PICKUP_DATETIME\"),\n    col(\"TOTAL_AMOUNT\").alias(\"TARGET_FARE\")\n).sample(n=100000)\n\ntraining_set = fs.generate_training_set(\n    spine_df=spine_df,\n    features=[retrieved_fv],\n    spine_timestamp_col=\"TPEP_PICKUP_DATETIME\",\n)\n\nprint(\"Final training data with features joined:\")\ntraining_set.show()",
   "execution_count": null
  },
  {
   "cell_type": "code",
   "id": "52626d25-d793-45e7-8fec-5c802dff1769",
   "metadata": {
    "language": "python",
    "name": "cell28",
    "codeCollapsed": false
   },
   "outputs": [],
   "source": "from snowflake.ml.modeling.xgboost import XGBRegressor\nfrom snowflake.ml.modeling.metrics import mean_squared_error, r2_score\n\ntrain_sdf, test_sdf = training_set.random_split([0.8, 0.2], seed=42)\n\nfeature_cols = [\n    \"PASSENGER_COUNT\", \"TRIP_DISTANCE\", \"TRIP_DURATION_MINUTES\", \"PULOCATIONID\",\n    \"DOLOCATIONID\", \"STORE_AND_FWD_FLAG\", \"VENDOR_1\", \"VENDOR_2\", \"PAYMENT_1\",\n    \"PAYMENT_2\", \"PAYMENT_3\", \"PAYMENT_4\", \"PAYMENT_5\", \"RATECODE_1\",\n    \"RATECODE_2\", \"RATECODE_3\", \"RATECODE_4\", \"RATECODE_5\", \"RATECODE_6\",\n    \"RATECODE_99\", \"HOUR_SIN\", \"HOUR_COS\", \"DAY_SIN\", \"DAY_COS\",\n    \"MONTH_SIN\", \"MONTH_COS\"\n]\nlabel_col = \"TARGET_FARE\"\n\nprint(\"Training XGBoost model inside Snowflake...\")\nregressor = XGBRegressor(\n    input_cols=feature_cols,\n    label_cols=label_col,\n    n_estimators = 100,\n    max_depth = 3,\n    lr = 1e-3,\n    output_cols=\"PREDICTED_FARE\"\n)\n\nregressor.fit(train_sdf)\nprint(\"Model training complete.\")\n\n\nresult_sdf = regressor.predict(test_sdf)\n\n\nmse = mean_squared_error(df=result_sdf, y_true_col_names=label_col, y_pred_col_names=\"PREDICTED_FARE\")\nr2 = r2_score(df=result_sdf, y_true_col_name=label_col, y_pred_col_name=\"PREDICTED_FARE\")\n\nprint(f\"Model Mean Squared Error: {mse:.2f}\")\nprint(f\"Model R-squared (R²): {r2:.2f}\")\n\nresult_sdf.select(label_col, \"PREDICTED_FARE\").show()",
   "execution_count": null
  }
 ]
}